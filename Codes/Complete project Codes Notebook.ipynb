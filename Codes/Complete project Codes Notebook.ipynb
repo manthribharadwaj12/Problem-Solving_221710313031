{
 "cells": [
  {
   "cell_type": "markdown",
   "metadata": {},
   "source": [
    "# Codes of project (Problem Solving)"
   ]
  },
  {
   "cell_type": "markdown",
   "metadata": {},
   "source": [
    "## Problem 1\n",
    "\n",
    "### Last digit\n",
    "\n",
    "[ \" https://www.geeksforgeeks.org/find-last-digit-given-series/ \" ]\n"
   ]
  },
  {
   "cell_type": "code",
   "execution_count": null,
   "metadata": {},
   "outputs": [],
   "source": [
    "#include<stdio.h>\n",
    "#include<math.h>\n",
    "int main()\n",
    "{ int i,j,n,b,s=0,a;\n",
    " scanf(\"%d\",&n);\n",
    " for(i=0;pow(2,i)<=n;i++)\n",
    " {a=pow(2,i);\n",
    " for(j=0;j<=n;j++)\n",
    " {  \n",
    " b=pow(2,(a+2*j));\n",
    "  s=s+b;}}\n",
    " printf(\"%d\",s%10);\n",
    " return 0; \n",
    "}"
   ]
  },
  {
   "cell_type": "markdown",
   "metadata": {},
   "source": [
    "## Problem 2\n",
    "\n",
    "### Replace occurrences with the given words\n",
    "\n",
    "[ \" https://www.geeksforgeeks.org/c-program-replace-word-text-another-given-word/ \" ]"
   ]
  },
  {
   "cell_type": "code",
   "execution_count": null,
   "metadata": {},
   "outputs": [],
   "source": [
    "#include<stdio.h> \n",
    "#include<stdlib.h> \n",
    "#include<string.h> \n",
    "int main() \n",
    "{ \n",
    "    char string[1010],a[30],b[30];\n",
    "    scanf (\"%s\", a);\n",
    "    scanf (\"%s\", b);\n",
    "    fflush (stdin);\n",
    "    scanf (\"%[^\\n]s\", string);\n",
    "    char *p;\n",
    "    p = strtok (string, \" \");\n",
    "    while (p != NULL)\n",
    "    {\n",
    "        if (strcmp (a, p) == 0)\n",
    "        printf (\"%s \", b);\n",
    "        else\n",
    "        printf (\"%s \", p);\n",
    "        p = strtok (NULL, \" \");\n",
    "    }\n",
    "return 0;\n",
    "}"
   ]
  },
  {
   "cell_type": "markdown",
   "metadata": {},
   "source": [
    "## Problem 3\n",
    "\n",
    "### Bike tour \n",
    "\n",
    "[ \" https://codingcompetitions.withgoogle.com/kickstart/round/000000000019ffc8/00000000002d82e6\" ]"
   ]
  },
  {
   "cell_type": "code",
   "execution_count": null,
   "metadata": {},
   "outputs": [],
   "source": [
    "t=int(input())\n",
    "for i in range(1,t+1):\n",
    "    n=int(input())\n",
    "    a=list(map(int,input().split()))\n",
    "    c=0\n",
    "    for j in range(1,n-1):\n",
    "        if (a[j-1]<a[j] and a[j+1]<a[j]):\n",
    "            c+=1\n",
    "    print(\"Case #\"+str(i)+\": \"+str(c))"
   ]
  },
  {
   "cell_type": "markdown",
   "metadata": {},
   "source": [
    "## Problem 4\n",
    "\n",
    "### Robot Path Decoding \n",
    "\n",
    "[ \" https://codingcompetitions.withgoogle.com/kickstart/round/000000000019ffc8/00000000002d83dc\" ]"
   ]
  },
  {
   "cell_type": "code",
   "execution_count": null,
   "metadata": {},
   "outputs": [],
   "source": [
    "t=int(input())\n",
    "for t in range(1, t+1):\n",
    "    p=input()\n",
    "    cur=[0, 0]\n",
    "    stack=[]\n",
    "    for char in p:\n",
    "        if char=='N':\n",
    "            cur[0] -= 1 \n",
    "        elif char == 'S':\n",
    "            cur[0] += 1 \n",
    "        elif char == 'W':\n",
    "            cur[1] -= 1\n",
    "        elif char == 'E':\n",
    "            cur[1] += 1 \n",
    "        elif char.isdigit():\n",
    "            stack.append((cur[0], cur[1], int(char)))\n",
    "        elif char == '(':\n",
    "            cur = [0, 0] \n",
    "        elif char == ')':\n",
    "            pop = stack.pop()\n",
    "            cur = [pop[i] + pop[2]*cur[i] for i in (e, 1)]\n",
    "    final_row=(1+cur[0])%10**9\n",
    "    if final_row == 0: \n",
    "        final_row = 10**9\n",
    "\n",
    "    final_column = (1+cur[1])%10**9\n",
    "    if final_column == 0:\n",
    "        final_column = 10**9\n",
    "    print(\"Case #%d: %d %d\" % (t, final_column, final_row))"
   ]
  },
  {
   "cell_type": "markdown",
   "metadata": {},
   "source": [
    "## Problem 5\n",
    "\n",
    "### Perfect subarray\n",
    "\n",
    "[ \"https://codingcompetitions.withgoogle.com/kickstart/round/000000000019ff43/00000000003381cb\" ]"
   ]
  },
  {
   "cell_type": "code",
   "execution_count": null,
   "metadata": {},
   "outputs": [],
   "source": [
    "import math\n",
    "t=int(input())\n",
    "for i in range(1,t+1):\n",
    "    n=int(input())\n",
    "    list1=list(map(int,input().split()))\n",
    "    sublist = [math.sqrt(sum(list1[k:j]))-math.floor(math.sqrt(sum(list1[k:j])))==0 for k in range(len(list1) + 1) \n",
    "               for j in range(k + 1, len(list1) + 1)]\n",
    "    print(\"Case #\"+str(i)+\": \"+str(sublist.count(1)))"
   ]
  },
  {
   "cell_type": "markdown",
   "metadata": {},
   "source": [
    "## Problem 6\n",
    "\n",
    "### Big city skylines \n",
    "\n",
    "[ \"https://static.googleusercontent.com/media/services.google.com/en//blog_resources/Google_CodeJam_Practice.pdf\" ]"
   ]
  },
  {
   "cell_type": "code",
   "execution_count": null,
   "metadata": {},
   "outputs": [],
   "source": [
    "n=int(input())\n",
    "a=list(map(int,input().split()))\n",
    "a1=[a[i] for i in range(0,len(a)) if i%2==0]\n",
    "a2=[a[i] for i in range(0,len(a)) if i%2!=0]\n",
    "print(sum(a1)*min(a2))"
   ]
  },
  {
   "cell_type": "markdown",
   "metadata": {},
   "source": [
    "## Problem 7\n",
    "\n",
    "### ATM \n",
    "\n",
    "[ \"https://www.codechef.com/problems/HS08TEST\" ]"
   ]
  },
  {
   "cell_type": "code",
   "execution_count": null,
   "metadata": {},
   "outputs": [],
   "source": [
    "n=input().split(' ');\n",
    "\n",
    "k=float(n[1])\n",
    "n1=int(n[0])\n",
    "if(n1%5==0 and n1<=k-0.5):\n",
    "    n1=float(n1)+0.5;\n",
    "    k=k-n1;\n",
    "    print(\"%.2f\" % k)\n",
    "else:\n",
    "    print(\"%.2f\" % k)"
   ]
  },
  {
   "cell_type": "markdown",
   "metadata": {},
   "source": [
    "## Problem 8 \n",
    "\n",
    "### Cryptopangrams\n",
    "\n",
    "[ \"https://codingcompetitions.withgoogle.com/codejam/round/0000000000051705/000000000008830b\" ]"
   ]
  },
  {
   "cell_type": "code",
   "execution_count": null,
   "metadata": {},
   "outputs": [],
   "source": [
    "def gcd(a, b):\n",
    "    while b != 0:\n",
    "        a, b = b, a%b\n",
    "    return a\n",
    "\n",
    "T = int(input())\n",
    "for t in range(T):\n",
    "    N, L = map(int, input().split())\n",
    "    a = list(map(int, input().split()))\n",
    "    p = [0]*(L+1)\n",
    "    for i in range(L-1):\n",
    "        c = gcd(a[i], a[i+1])\n",
    "        if c != a[i] and c != a[i+1]:\n",
    "            p[i+1] = c\n",
    "    for i in range(L):\n",
    "        if p[i] != 0 and p[i+1] == 0:\n",
    "            p[i+1] = a[i] // p[i]\n",
    "    for i in range(L, 0, -1):\n",
    "        if p[i] != 0 and p[i-1] == 0:\n",
    "            p[i-1] = a[i-1] // p[i]\n",
    "    b = sorted(set(p))\n",
    "    d = dict()\n",
    "    for i in range(26):\n",
    "        d[b[i]] = chr(ord('A') + i)\n",
    "    s = \"\"\n",
    "    for i in p:\n",
    "        s += d[i]\n",
    "    print(\"Case #\" + str(t+1) + \": \" + s)"
   ]
  }
 ],
 "metadata": {
  "kernelspec": {
   "display_name": "Python 3",
   "language": "python",
   "name": "python3"
  },
  "language_info": {
   "codemirror_mode": {
    "name": "ipython",
    "version": 3
   },
   "file_extension": ".py",
   "mimetype": "text/x-python",
   "name": "python",
   "nbconvert_exporter": "python",
   "pygments_lexer": "ipython3",
   "version": "3.7.6"
  }
 },
 "nbformat": 4,
 "nbformat_minor": 2
}
